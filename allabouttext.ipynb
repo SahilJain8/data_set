{
 "cells": [
  {
   "cell_type": "code",
   "execution_count": 4,
   "id": "5f243098",
   "metadata": {},
   "outputs": [],
   "source": [
    "import wikipedia\n",
    "import re"
   ]
  },
  {
   "cell_type": "code",
   "execution_count": 87,
   "id": "1a0afae7",
   "metadata": {},
   "outputs": [],
   "source": [
    "data=wikipedia.summary(\"THE FATAL ACCIDENTS ACT, 1855\",sentences=50)"
   ]
  },
  {
   "cell_type": "code",
   "execution_count": 88,
   "id": "68bcd83c",
   "metadata": {},
   "outputs": [],
   "source": [
    "data\n",
    "bew=re.sub(\"\\n\",\"\",data)\n",
    "new=re.sub(\"==\",\"\",bew)"
   ]
  },
  {
   "cell_type": "code",
   "execution_count": 89,
   "id": "7c9b4cfc",
   "metadata": {},
   "outputs": [
    {
     "data": {
      "text/plain": [
       "'The Department of Labour and Employment of state of Tamil Nadu is one of the Department of Government of Tamil Nadu History The Department of Labour and Employment  was formed in 1972, when Government of Tamil Nadu trifurcated the Industries, Labour and Housing Department at Tamil Nadu new Legislature & Secretariat Complex  Secretariat. Objective & Functions of the Department The Department of Labour and Employment  is administering matters relating to Industrial relations, Safety of workers, Labour Welfare, Employment Exchanges and Technical training.  The  Commissioner of Labour looks after Industrial Relations and Labour Welfare.  The Chief Inspector of Factories deals with safety in Factories.  The Commissioner of Employment & Training heads two wings.  The Employment Wing deals with Employment Services through a network of Employment Exchanges.  The Training Wing deals with technical training through a number of Industrial Training Institutes and similar institutions.  Social security is provided in a large measure, by two Central Organisations viz.  The Employees Provident Fund Organisation and the Employees State Insurance Corporation.  the State Labour Welfare Board provides welfare services to workers in the organized sector.'"
      ]
     },
     "execution_count": 89,
     "metadata": {},
     "output_type": "execute_result"
    }
   ],
   "source": [
    "new"
   ]
  },
  {
   "cell_type": "code",
   "execution_count": 9,
   "id": "f45a49c6",
   "metadata": {},
   "outputs": [
    {
     "name": "stderr",
     "output_type": "stream",
     "text": [
      "[nltk_data] Downloading package punkt to\n",
      "[nltk_data]     C:\\Users\\Kunal\\AppData\\Roaming\\nltk_data...\n",
      "[nltk_data]   Unzipping tokenizers\\punkt.zip.\n"
     ]
    },
    {
     "name": "stdout",
     "output_type": "stream",
     "text": [
      "['The', 'Department', 'of', 'Labour', 'and', 'Employment', 'of', 'state', 'of', 'Tamil', 'Nadu', 'is', 'one', 'of', 'the', 'Department', 'of', 'Government', 'of', 'Tamil', 'Nadu', 'History', 'The', 'Department', 'of', 'Labour', 'and', 'Employment', 'was', 'formed', 'in', '1972', ',', 'when', 'Government', 'of', 'Tamil', 'Nadu', 'trifurcated', 'the', 'Industries', ',', 'Labour', 'and', 'Housing', 'Department', 'at', 'Tamil', 'Nadu', 'new', 'Legislature', '&', 'Secretariat', 'Complex', 'Secretariat', '.', 'Objective', '&', 'Functions', 'of', 'the', 'Department', 'The', 'Department', 'of', 'Labour', 'and', 'Employment', 'is', 'administering', 'matters', 'relating', 'to', 'Industrial', 'relations', ',', 'Safety', 'of', 'workers', ',', 'Labour', 'Welfare', ',', 'Employment', 'Exchanges', 'and', 'Technical', 'training', '.', 'The', 'Commissioner', 'of', 'Labour', 'looks', 'after', 'Industrial', 'Relations', 'and', 'Labour', 'Welfare', '.', 'The', 'Chief', 'Inspector', 'of', 'Factories', 'deals', 'with', 'safety', 'in', 'Factories', '.', 'The', 'Commissioner', 'of', 'Employment', '&', 'Training', 'heads', 'two', 'wings', '.', 'The', 'Employment', 'Wing', 'deals', 'with', 'Employment', 'Services', 'through', 'a', 'network', 'of', 'Employment', 'Exchanges', '.', 'The', 'Training', 'Wing', 'deals', 'with', 'technical', 'training', 'through', 'a', 'number', 'of', 'Industrial', 'Training', 'Institutes', 'and', 'similar', 'institutions', '.', 'Social', 'security', 'is', 'provided', 'in', 'a', 'large', 'measure', ',', 'by', 'two', 'Central', 'Organisations', 'viz', '.', 'The', 'Employees', 'Provident', 'Fund', 'Organisation', 'and', 'the', 'Employees', 'State', 'Insurance', 'Corporation', '.', 'the', 'State', 'Labour', 'Welfare', 'Board', 'provides', 'welfare', 'services', 'to', 'workers', 'in', 'the', 'organized', 'sector', '.']\n"
     ]
    }
   ],
   "source": [
    "import nltk\n",
    "from nltk.tokenize import word_tokenize\n",
    "nltk.download('punkt')\n",
    "print(word_tokenize(new))"
   ]
  },
  {
   "cell_type": "code",
   "execution_count": 14,
   "id": "8f4679f2",
   "metadata": {},
   "outputs": [],
   "source": [
    "gen_docs = [[w.lower() for w in word_tokenize(new)]]\n"
   ]
  },
  {
   "cell_type": "code",
   "execution_count": 15,
   "id": "343f86ac",
   "metadata": {},
   "outputs": [
    {
     "data": {
      "text/plain": [
       "[['the',\n",
       "  'department',\n",
       "  'of',\n",
       "  'labour',\n",
       "  'and',\n",
       "  'employment',\n",
       "  'of',\n",
       "  'state',\n",
       "  'of',\n",
       "  'tamil',\n",
       "  'nadu',\n",
       "  'is',\n",
       "  'one',\n",
       "  'of',\n",
       "  'the',\n",
       "  'department',\n",
       "  'of',\n",
       "  'government',\n",
       "  'of',\n",
       "  'tamil',\n",
       "  'nadu',\n",
       "  'history',\n",
       "  'the',\n",
       "  'department',\n",
       "  'of',\n",
       "  'labour',\n",
       "  'and',\n",
       "  'employment',\n",
       "  'was',\n",
       "  'formed',\n",
       "  'in',\n",
       "  '1972',\n",
       "  ',',\n",
       "  'when',\n",
       "  'government',\n",
       "  'of',\n",
       "  'tamil',\n",
       "  'nadu',\n",
       "  'trifurcated',\n",
       "  'the',\n",
       "  'industries',\n",
       "  ',',\n",
       "  'labour',\n",
       "  'and',\n",
       "  'housing',\n",
       "  'department',\n",
       "  'at',\n",
       "  'tamil',\n",
       "  'nadu',\n",
       "  'new',\n",
       "  'legislature',\n",
       "  '&',\n",
       "  'secretariat',\n",
       "  'complex',\n",
       "  'secretariat',\n",
       "  '.',\n",
       "  'objective',\n",
       "  '&',\n",
       "  'functions',\n",
       "  'of',\n",
       "  'the',\n",
       "  'department',\n",
       "  'the',\n",
       "  'department',\n",
       "  'of',\n",
       "  'labour',\n",
       "  'and',\n",
       "  'employment',\n",
       "  'is',\n",
       "  'administering',\n",
       "  'matters',\n",
       "  'relating',\n",
       "  'to',\n",
       "  'industrial',\n",
       "  'relations',\n",
       "  ',',\n",
       "  'safety',\n",
       "  'of',\n",
       "  'workers',\n",
       "  ',',\n",
       "  'labour',\n",
       "  'welfare',\n",
       "  ',',\n",
       "  'employment',\n",
       "  'exchanges',\n",
       "  'and',\n",
       "  'technical',\n",
       "  'training',\n",
       "  '.',\n",
       "  'the',\n",
       "  'commissioner',\n",
       "  'of',\n",
       "  'labour',\n",
       "  'looks',\n",
       "  'after',\n",
       "  'industrial',\n",
       "  'relations',\n",
       "  'and',\n",
       "  'labour',\n",
       "  'welfare',\n",
       "  '.',\n",
       "  'the',\n",
       "  'chief',\n",
       "  'inspector',\n",
       "  'of',\n",
       "  'factories',\n",
       "  'deals',\n",
       "  'with',\n",
       "  'safety',\n",
       "  'in',\n",
       "  'factories',\n",
       "  '.',\n",
       "  'the',\n",
       "  'commissioner',\n",
       "  'of',\n",
       "  'employment',\n",
       "  '&',\n",
       "  'training',\n",
       "  'heads',\n",
       "  'two',\n",
       "  'wings',\n",
       "  '.',\n",
       "  'the',\n",
       "  'employment',\n",
       "  'wing',\n",
       "  'deals',\n",
       "  'with',\n",
       "  'employment',\n",
       "  'services',\n",
       "  'through',\n",
       "  'a',\n",
       "  'network',\n",
       "  'of',\n",
       "  'employment',\n",
       "  'exchanges',\n",
       "  '.',\n",
       "  'the',\n",
       "  'training',\n",
       "  'wing',\n",
       "  'deals',\n",
       "  'with',\n",
       "  'technical',\n",
       "  'training',\n",
       "  'through',\n",
       "  'a',\n",
       "  'number',\n",
       "  'of',\n",
       "  'industrial',\n",
       "  'training',\n",
       "  'institutes',\n",
       "  'and',\n",
       "  'similar',\n",
       "  'institutions',\n",
       "  '.',\n",
       "  'social',\n",
       "  'security',\n",
       "  'is',\n",
       "  'provided',\n",
       "  'in',\n",
       "  'a',\n",
       "  'large',\n",
       "  'measure',\n",
       "  ',',\n",
       "  'by',\n",
       "  'two',\n",
       "  'central',\n",
       "  'organisations',\n",
       "  'viz',\n",
       "  '.',\n",
       "  'the',\n",
       "  'employees',\n",
       "  'provident',\n",
       "  'fund',\n",
       "  'organisation',\n",
       "  'and',\n",
       "  'the',\n",
       "  'employees',\n",
       "  'state',\n",
       "  'insurance',\n",
       "  'corporation',\n",
       "  '.',\n",
       "  'the',\n",
       "  'state',\n",
       "  'labour',\n",
       "  'welfare',\n",
       "  'board',\n",
       "  'provides',\n",
       "  'welfare',\n",
       "  'services',\n",
       "  'to',\n",
       "  'workers',\n",
       "  'in',\n",
       "  'the',\n",
       "  'organized',\n",
       "  'sector',\n",
       "  '.']]"
      ]
     },
     "execution_count": 15,
     "metadata": {},
     "output_type": "execute_result"
    }
   ],
   "source": [
    "gen_docs"
   ]
  },
  {
   "cell_type": "code",
   "execution_count": 16,
   "id": "f0cf49c2",
   "metadata": {},
   "outputs": [
    {
     "name": "stdout",
     "output_type": "stream",
     "text": [
      "{'&': 0, ',': 1, '.': 2, '1972': 3, 'a': 4, 'administering': 5, 'after': 6, 'and': 7, 'at': 8, 'board': 9, 'by': 10, 'central': 11, 'chief': 12, 'commissioner': 13, 'complex': 14, 'corporation': 15, 'deals': 16, 'department': 17, 'employees': 18, 'employment': 19, 'exchanges': 20, 'factories': 21, 'formed': 22, 'functions': 23, 'fund': 24, 'government': 25, 'heads': 26, 'history': 27, 'housing': 28, 'in': 29, 'industrial': 30, 'industries': 31, 'inspector': 32, 'institutes': 33, 'institutions': 34, 'insurance': 35, 'is': 36, 'labour': 37, 'large': 38, 'legislature': 39, 'looks': 40, 'matters': 41, 'measure': 42, 'nadu': 43, 'network': 44, 'new': 45, 'number': 46, 'objective': 47, 'of': 48, 'one': 49, 'organisation': 50, 'organisations': 51, 'organized': 52, 'provided': 53, 'provident': 54, 'provides': 55, 'relating': 56, 'relations': 57, 'safety': 58, 'secretariat': 59, 'sector': 60, 'security': 61, 'services': 62, 'similar': 63, 'social': 64, 'state': 65, 'tamil': 66, 'technical': 67, 'the': 68, 'through': 69, 'to': 70, 'training': 71, 'trifurcated': 72, 'two': 73, 'viz': 74, 'was': 75, 'welfare': 76, 'when': 77, 'wing': 78, 'wings': 79, 'with': 80, 'workers': 81}\n"
     ]
    }
   ],
   "source": [
    "import gensim\n",
    "dictionary = gensim.corpora.Dictionary(gen_docs)\n",
    "print(dictionary.token2id)"
   ]
  },
  {
   "cell_type": "code",
   "execution_count": 17,
   "id": "33a217fb",
   "metadata": {},
   "outputs": [],
   "source": [
    "import spacy"
   ]
  },
  {
   "cell_type": "code",
   "execution_count": 22,
   "id": "90c81ecd",
   "metadata": {},
   "outputs": [],
   "source": [
    "nlp=spacy.load(\"en_core_web_lg\")"
   ]
  },
  {
   "cell_type": "code",
   "execution_count": 34,
   "id": "032a9eaf",
   "metadata": {},
   "outputs": [],
   "source": [
    "w1=nlp.vocab[\"The Act defines what would lawfully be called as a trust and who can legally be its trustees and provides a definition for them\"]\n",
    "w2=\"An Act to define and amend the law relating to Private Trusts and Trustees\"\n",
    "w2=nlp.vocab[w2]"
   ]
  },
  {
   "cell_type": "code",
   "execution_count": 35,
   "id": "7198c81e",
   "metadata": {},
   "outputs": [
    {
     "name": "stderr",
     "output_type": "stream",
     "text": [
      "C:\\Users\\Kunal\\AppData\\Local\\Temp\\ipykernel_22264\\108627858.py:1: UserWarning: [W008] Evaluating Lexeme.similarity based on empty vectors.\n",
      "  w1.similarity(w2)\n"
     ]
    },
    {
     "data": {
      "text/plain": [
       "0.0"
      ]
     },
     "execution_count": 35,
     "metadata": {},
     "output_type": "execute_result"
    }
   ],
   "source": [
    "w1.similarity(w2)"
   ]
  },
  {
   "cell_type": "code",
   "execution_count": 36,
   "id": "d6d25202",
   "metadata": {},
   "outputs": [
    {
     "data": {
      "text/plain": [
       "\"Indian Trusts Act, 1882 is a law in India relating to private trusts and trustees. The Act defines what would lawfully be called as a trust and who can legally be its trustees and provides a definition for them. The Indian Trusts Amendment Bill of 2015 amended the Act and removed some restrictions on investment of the monetary assets by the trust in certain investments. But at the same time, it enabled the government to scrutinise the trusts' investments at will\\n\\n\\n== Content ==\\nThe Act defines how the author of the trust could create a trust and assign trustees and assign his monetary assets to be controlled by the trust.\""
      ]
     },
     "execution_count": 36,
     "metadata": {},
     "output_type": "execute_result"
    }
   ],
   "source": [
    "data"
   ]
  },
  {
   "cell_type": "code",
   "execution_count": 37,
   "id": "339064f1",
   "metadata": {},
   "outputs": [
    {
     "data": {
      "text/plain": [
       "<spacy.lexeme.Lexeme at 0x1aa1ec1a840>"
      ]
     },
     "execution_count": 37,
     "metadata": {},
     "output_type": "execute_result"
    }
   ],
   "source": [
    "w1"
   ]
  },
  {
   "cell_type": "code",
   "execution_count": 38,
   "id": "c9dacd5f",
   "metadata": {},
   "outputs": [
    {
     "data": {
      "text/plain": [
       "'The Act defines what would lawfully be called as a trust and who can legally be its trustees and provides a definition for them'"
      ]
     },
     "execution_count": 38,
     "metadata": {},
     "output_type": "execute_result"
    }
   ],
   "source": [
    "w1.text"
   ]
  },
  {
   "cell_type": "code",
   "execution_count": null,
   "id": "dffa56ad",
   "metadata": {},
   "outputs": [],
   "source": []
  },
  {
   "cell_type": "code",
   "execution_count": 39,
   "id": "2ffc443f",
   "metadata": {},
   "outputs": [],
   "source": [
    "import nltk\n"
   ]
  },
  {
   "cell_type": "code",
   "execution_count": 40,
   "id": "f97d09f8",
   "metadata": {},
   "outputs": [
    {
     "name": "stderr",
     "output_type": "stream",
     "text": [
      "[nltk_data] Downloading package punkt to\n",
      "[nltk_data]     C:\\Users\\Kunal\\AppData\\Roaming\\nltk_data...\n",
      "[nltk_data]   Package punkt is already up-to-date!\n"
     ]
    },
    {
     "data": {
      "text/plain": [
       "True"
      ]
     },
     "execution_count": 40,
     "metadata": {},
     "output_type": "execute_result"
    }
   ],
   "source": [
    "nltk.download('punkt')"
   ]
  },
  {
   "cell_type": "code",
   "execution_count": 41,
   "id": "e23f2518",
   "metadata": {},
   "outputs": [],
   "source": [
    "from nltk.tokenize import sent_tokenize,word_tokenize\n",
    "import gensim\n",
    "import numpy as np"
   ]
  },
  {
   "cell_type": "code",
   "execution_count": 45,
   "id": "cd401ce1",
   "metadata": {},
   "outputs": [],
   "source": [
    "new=re.sub('\"\"',\"\",new)"
   ]
  },
  {
   "cell_type": "code",
   "execution_count": 46,
   "id": "e58112cc",
   "metadata": {},
   "outputs": [
    {
     "data": {
      "text/plain": [
       "\"Indian Trusts Act, 1882 is a law in India relating to private trusts and trustees. The Act defines what would lawfully be called as a trust and who can legally be its trustees and provides a definition for them. The Indian Trusts Amendment Bill of 2015 amended the Act and removed some restrictions on investment of the monetary assets by the trust in certain investments. But at the same time, it enabled the government to scrutinise the trusts' investments at will Content The Act defines how the author of the trust could create a trust and assign trustees and assign his monetary assets to be controlled by the trust.\""
      ]
     },
     "execution_count": 46,
     "metadata": {},
     "output_type": "execute_result"
    }
   ],
   "source": [
    "new"
   ]
  },
  {
   "cell_type": "code",
   "execution_count": 50,
   "id": "a82b3db1",
   "metadata": {},
   "outputs": [],
   "source": [
    "se=sent_tokenize(data)"
   ]
  },
  {
   "cell_type": "code",
   "execution_count": 51,
   "id": "4a46ebbf",
   "metadata": {},
   "outputs": [
    {
     "data": {
      "text/plain": [
       "['Indian Trusts Act, 1882 is a law in India relating to private trusts and trustees.',\n",
       " 'The Act defines what would lawfully be called as a trust and who can legally be its trustees and provides a definition for them.',\n",
       " 'The Indian Trusts Amendment Bill of 2015 amended the Act and removed some restrictions on investment of the monetary assets by the trust in certain investments.',\n",
       " \"But at the same time, it enabled the government to scrutinise the trusts' investments at will\\n\\n\\n== Content ==\\nThe Act defines how the author of the trust could create a trust and assign trustees and assign his monetary assets to be controlled by the trust.\"]"
      ]
     },
     "execution_count": 51,
     "metadata": {},
     "output_type": "execute_result"
    }
   ],
   "source": [
    "se"
   ]
  },
  {
   "cell_type": "code",
   "execution_count": 90,
   "id": "7e4d3615",
   "metadata": {},
   "outputs": [
    {
     "name": "stdout",
     "output_type": "stream",
     "text": [
      "Number of documents: 10\n"
     ]
    }
   ],
   "source": [
    "import nltk\n",
    "from nltk.tokenize import word_tokenize, sent_tokenize\n",
    "\n",
    "\n",
    "\n",
    "\n",
    "file_docs  = sent_tokenize(\"The Department of Labour and Employment of state of Tamil Nadu is one of the Department of Government of Tamil Nadu History The Department of Labour and Employment  was formed in 1972, when Government of Tamil Nadu trifurcated the Industries, Labour and Housing Department at Tamil Nadu new Legislature & Secretariat Complex  Secretariat. Objective & Functions of the Department The Department of Labour and Employment  is administering matters relating to Industrial relations, Safety of workers, Labour Welfare, Employment Exchanges and Technical training.  The  Commissioner of Labour looks after Industrial Relations and Labour Welfare.  The Chief Inspector of Factories deals with safety in Factories.  The Commissioner of Employment & Training heads two wings.  The Employment Wing deals with Employment Services through a network of Employment Exchanges.  The Training Wing deals with technical training through a number of Industrial Training Institutes and similar institutions.  Social security is provided in a large measure, by two Central Organisations viz.  The Employees Provident Fund Organisation and the Employees State Insurance Corporation.  the State Labour Welfare Board provides welfare services to workers in the organized sector\")\n",
    "\n",
    "print(\"Number of documents:\",len(file_docs))"
   ]
  },
  {
   "cell_type": "code",
   "execution_count": 91,
   "id": "c40a3b79",
   "metadata": {},
   "outputs": [
    {
     "data": {
      "text/plain": [
       "['The Department of Labour and Employment of state of Tamil Nadu is one of the Department of Government of Tamil Nadu History The Department of Labour and Employment  was formed in 1972, when Government of Tamil Nadu trifurcated the Industries, Labour and Housing Department at Tamil Nadu new Legislature & Secretariat Complex  Secretariat.',\n",
       " 'Objective & Functions of the Department The Department of Labour and Employment  is administering matters relating to Industrial relations, Safety of workers, Labour Welfare, Employment Exchanges and Technical training.',\n",
       " 'The  Commissioner of Labour looks after Industrial Relations and Labour Welfare.',\n",
       " 'The Chief Inspector of Factories deals with safety in Factories.',\n",
       " 'The Commissioner of Employment & Training heads two wings.',\n",
       " 'The Employment Wing deals with Employment Services through a network of Employment Exchanges.',\n",
       " 'The Training Wing deals with technical training through a number of Industrial Training Institutes and similar institutions.',\n",
       " 'Social security is provided in a large measure, by two Central Organisations viz.',\n",
       " 'The Employees Provident Fund Organisation and the Employees State Insurance Corporation.',\n",
       " 'the State Labour Welfare Board provides welfare services to workers in the organized sector']"
      ]
     },
     "execution_count": 91,
     "metadata": {},
     "output_type": "execute_result"
    }
   ],
   "source": [
    "file_docs"
   ]
  },
  {
   "cell_type": "code",
   "execution_count": 92,
   "id": "c4967d3e",
   "metadata": {},
   "outputs": [],
   "source": [
    "gen_docs = [[w.lower() for w in word_tokenize(text)] \n",
    "            for text in file_docs]"
   ]
  },
  {
   "cell_type": "code",
   "execution_count": 93,
   "id": "c151c34b",
   "metadata": {},
   "outputs": [
    {
     "name": "stdout",
     "output_type": "stream",
     "text": [
      "{'&': 0, ',': 1, '.': 2, '1972': 3, 'and': 4, 'at': 5, 'complex': 6, 'department': 7, 'employment': 8, 'formed': 9, 'government': 10, 'history': 11, 'housing': 12, 'in': 13, 'industries': 14, 'is': 15, 'labour': 16, 'legislature': 17, 'nadu': 18, 'new': 19, 'of': 20, 'one': 21, 'secretariat': 22, 'state': 23, 'tamil': 24, 'the': 25, 'trifurcated': 26, 'was': 27, 'when': 28, 'administering': 29, 'exchanges': 30, 'functions': 31, 'industrial': 32, 'matters': 33, 'objective': 34, 'relating': 35, 'relations': 36, 'safety': 37, 'technical': 38, 'to': 39, 'training': 40, 'welfare': 41, 'workers': 42, 'after': 43, 'commissioner': 44, 'looks': 45, 'chief': 46, 'deals': 47, 'factories': 48, 'inspector': 49, 'with': 50, 'heads': 51, 'two': 52, 'wings': 53, 'a': 54, 'network': 55, 'services': 56, 'through': 57, 'wing': 58, 'institutes': 59, 'institutions': 60, 'number': 61, 'similar': 62, 'by': 63, 'central': 64, 'large': 65, 'measure': 66, 'organisations': 67, 'provided': 68, 'security': 69, 'social': 70, 'viz': 71, 'corporation': 72, 'employees': 73, 'fund': 74, 'insurance': 75, 'organisation': 76, 'provident': 77, 'board': 78, 'organized': 79, 'provides': 80, 'sector': 81}\n"
     ]
    }
   ],
   "source": [
    "dictionary = gensim.corpora.Dictionary(gen_docs)\n",
    "print(dictionary.token2id)"
   ]
  },
  {
   "cell_type": "code",
   "execution_count": 94,
   "id": "470cdb71",
   "metadata": {},
   "outputs": [],
   "source": [
    "corpus = [dictionary.doc2bow(gen_doc) for gen_doc in gen_docs]"
   ]
  },
  {
   "cell_type": "code",
   "execution_count": null,
   "id": "b51f5139",
   "metadata": {},
   "outputs": [],
   "source": []
  },
  {
   "cell_type": "code",
   "execution_count": 95,
   "id": "987be9a5",
   "metadata": {},
   "outputs": [],
   "source": [
    "tf_idf = gensim.models.TfidfModel(corpus)\n"
   ]
  },
  {
   "cell_type": "code",
   "execution_count": 96,
   "id": "698845c1",
   "metadata": {},
   "outputs": [],
   "source": [
    "sims=gensim.similarities.Similarity('Documents/',tf_idf[corpus],num_features=len(dictionary))"
   ]
  },
  {
   "cell_type": "code",
   "execution_count": 97,
   "id": "a0ce60f8",
   "metadata": {},
   "outputs": [],
   "source": [
    "new_data=sent_tokenize(\"An Act to define and amend the law relating to Private Trusts and Trustees.\")"
   ]
  },
  {
   "cell_type": "code",
   "execution_count": null,
   "id": "69a56eca",
   "metadata": {},
   "outputs": [],
   "source": []
  },
  {
   "cell_type": "code",
   "execution_count": 106,
   "id": "3aac0e50",
   "metadata": {},
   "outputs": [
    {
     "name": "stdout",
     "output_type": "stream",
     "text": [
      "Number of documents: 1\n"
     ]
    }
   ],
   "source": [
    "\n",
    "\n",
    "file2_docs = sent_tokenize(\"An Act to kill families for loss occasioned by the death of a person caused by actionable wrong.\")\n",
    "\n",
    "\n",
    "print(\"Number of documents:\",len(file2_docs))  \n",
    "for line in file2_docs:\n",
    "    query_doc = [w.lower() for w in word_tokenize(line)]\n",
    "    query_doc_bow = dictionary.doc2bow(query_doc)\n"
   ]
  },
  {
   "cell_type": "code",
   "execution_count": 107,
   "id": "d76c167e",
   "metadata": {},
   "outputs": [
    {
     "data": {
      "text/plain": [
       "['An Act to kill families for loss occasioned by the death of a person caused by actionable wrong.']"
      ]
     },
     "execution_count": 107,
     "metadata": {},
     "output_type": "execute_result"
    }
   ],
   "source": [
    "file2_docs"
   ]
  },
  {
   "cell_type": "code",
   "execution_count": 108,
   "id": "5f883337",
   "metadata": {},
   "outputs": [],
   "source": [
    "query_doc_tf_idf = tf_idf[query_doc_bow]\n",
    "sun_of_sims=(np.sum(sims[query_doc_tf_idf],dtype=np.float32))\n"
   ]
  },
  {
   "cell_type": "code",
   "execution_count": 109,
   "id": "5cf38933",
   "metadata": {},
   "outputs": [
    {
     "data": {
      "text/plain": [
       "6.068724989891052"
      ]
     },
     "execution_count": 109,
     "metadata": {},
     "output_type": "execute_result"
    }
   ],
   "source": [
    "sun_of_sims/len(file_docs)*100\n"
   ]
  },
  {
   "cell_type": "code",
   "execution_count": 112,
   "id": "0d2d7576",
   "metadata": {},
   "outputs": [
    {
     "name": "stdout",
     "output_type": "stream",
     "text": [
      "not paraphrase: 94%\n",
      "is paraphrase: 6%\n"
     ]
    }
   ],
   "source": [
    "from transformers import AutoTokenizer, AutoModelForSequenceClassification\n",
    "import torch\n",
    "\n",
    "model_name = \"bert-base-cased-finetuned-mrpc\"\n",
    "tokenizer = AutoTokenizer.from_pretrained(model_name)\n",
    "model = AutoModelForSequenceClassification.from_pretrained(model_name)\n",
    "\n",
    "sequence_0 = \"Indian Trusts Act, 1882 is a law in India relating to private trusts and trustees. The Act defines what would lawfully be called as a trust and who can legally be its trustees and provides a definition for them. The Indian Trusts Amendment Bill of 2015 amended the Act and removed some restrictions on investment of the monetary assets by the trust in certain investments. But at the same time, it enabled the government to scrutinise the trusts' investments at will Content The Act defines how the author of the trust could create a trust and assign trustees and assign his monetary assets to be controlled by the trust.\"\n",
    "sequence_1 = \"kill and trsut issues\"\n",
    "\n",
    "tokens = tokenizer.encode_plus(sequence_0, sequence_1, return_tensors=\"pt\")\n",
    "classification_logits = model(**tokens)[0]\n",
    "results = torch.softmax(classification_logits, dim=1).tolist()[0]\n",
    "\n",
    "classes = [\"not paraphrase\", \"is paraphrase\"]\n",
    "for i in range(len(classes)):\n",
    "    print(f\"{classes[i]}: {round(results[i] * 100)}%\")"
   ]
  },
  {
   "cell_type": "code",
   "execution_count": 122,
   "id": "3bc389c4",
   "metadata": {},
   "outputs": [
    {
     "data": {
      "text/plain": [
       "(2, 768)"
      ]
     },
     "execution_count": 122,
     "metadata": {},
     "output_type": "execute_result"
    }
   ],
   "source": [
    "from sentence_transformers import SentenceTransformer\n",
    "model = SentenceTransformer('bert-base-nli-mean-tokens')\n",
    "#Encoding:\n",
    "sen_embeddings = model.encode(sen)\n",
    "sen_embeddings.shape"
   ]
  },
  {
   "cell_type": "code",
   "execution_count": 117,
   "id": "24d473de",
   "metadata": {},
   "outputs": [
    {
     "data": {
      "text/plain": [
       "0.21567926"
      ]
     },
     "execution_count": 117,
     "metadata": {},
     "output_type": "execute_result"
    }
   ],
   "source": [
    "sen_embeddings[1]"
   ]
  },
  {
   "cell_type": "code",
   "execution_count": 123,
   "id": "7cf3a1aa",
   "metadata": {},
   "outputs": [
    {
     "data": {
      "text/plain": [
       "array([[0.11452678]], dtype=float32)"
      ]
     },
     "execution_count": 123,
     "metadata": {},
     "output_type": "execute_result"
    }
   ],
   "source": [
    "from sklearn.metrics.pairwise import cosine_similarity\n",
    "\n",
    "cosine_similarity(\n",
    "    [sen_embeddings[0]],\n",
    "    sen_embeddings[1:]\n",
    ")"
   ]
  },
  {
   "cell_type": "code",
   "execution_count": 121,
   "id": "2886a2da",
   "metadata": {},
   "outputs": [],
   "source": [
    "sen = [\n",
    "    \n",
    "    \n",
    "]"
   ]
  },
  {
   "cell_type": "code",
   "execution_count": 168,
   "id": "7f092b6e",
   "metadata": {},
   "outputs": [],
   "source": [
    "data=wikipedia.summary(\"THE DISSOLUTION OF MUSLIM MARRIAGES ACT, 1939\",sentences=100)\n",
    "bew=re.sub(\"\\n\",\"\",data)\n",
    "new=re.sub(\"==\",\"\",bew)"
   ]
  },
  {
   "cell_type": "code",
   "execution_count": 169,
   "id": "31432ada",
   "metadata": {},
   "outputs": [
    {
     "data": {
      "text/plain": [
       "'The Dissolution of Muslim Marriages Act, 1939 deals with the situations in which Muslim women in India can obtain divorce. Its title and content refer to The Muslim Personal Law (Shariat) Application Act, 1937, which deals with marriage, succession and inheritance among Muslims. The 1939 act (Act No. 8 of 1939) is an act to consolidate and clarify the provisions of Muslim Law relating to suits for dissolution of marriage by women married under Muslim Law. The act received assent of the Governor-General on 17 March 1939. In Muslim law, the wife can claim divorce under extrajudicial or judicial modes. The extrajudicial modes are Talaaq-i-tafweez and Lian. The judicial mode is by Dissolution of Muslim Marriages Act 1939. The act defines the grounds for divorce and the procedure for the purpose. Grounds for divorce Under the act a woman married under Muslim Law shall be entitled to obtain a decree for the dissolution of her marriage on any one or more of the following grounds,(i) that the whereabouts of the husband have not been known for a period of four years ;(ii) that the husband has neglected or has failed to provide for her maintenance for a period of two years ;(iii) that the husband has been sentenced to imprisonment for a period of seven years or upwards ;(iv) that the husband has failed to perform, without reasonable cause his marital obligations for a period of three years ;continues to be so:(v) that the husband was impotent at the time of the marriage and (vi) that the husband has been insane for a period of two years or is suffering from leprosy or a virulent venereal disease ;(vii) that she, having been given in marriage by her father or other guardian before she attained the age of fifteen years, repudiated the marriage before attaining the age of eighteen years : Provided that the marriage has not been consummated ;(viii) that the husband treats her with cruelty that is to say,-habitually assaults her or makes her life miserable by ill-treatment, or of conduct even if such conduct does not amount to physical, life, orassociates with women of evil repute or leads an infamousattempts to force her to lead an immoral life, or rights over it, ordisposes of her property or prevents her exercising her legal practice, orobstructs her in the observance of her religious profession orif he has more wives than one, does not treat her equitably in accordance with the instructions of the Quran;(ix) on any other ground which is recognized as valid for the dissolution of marriages under Muslim Law: Provided that,no decree shall be passed on ground (iii) until the sentence has become final;a decree passed on ground (i) shall not take effect for a period of six months from the date of such decree, and if the husband appears either in person or through an authorized agent within that period and satisfies the Court that he is prepared to perform his conjugal duties, the Court shall set aside the said decree; andbefore passing a decree on ground (v) the Court shall on application by the husband, make an order requiring the husband to satisfy the Court, within a period of one year from the date of such order that he has ceased to be impotent, and if the husband so satisfies the Court within such period, no decree shall be passed on the said ground.'"
      ]
     },
     "execution_count": 169,
     "metadata": {},
     "output_type": "execute_result"
    }
   ],
   "source": [
    "new"
   ]
  },
  {
   "cell_type": "code",
   "execution_count": 159,
   "id": "7a3a0df2",
   "metadata": {},
   "outputs": [],
   "source": [
    "from sentence_transformers import SentenceTransformer\n",
    "from tqdm import tqdm\n",
    "from sklearn.metrics.pairwise import cosine_similarity"
   ]
  },
  {
   "cell_type": "code",
   "execution_count": 177,
   "id": "c60fdcd3",
   "metadata": {},
   "outputs": [
    {
     "data": {
      "text/plain": [
       "'The Dissolution of Muslim Marriages Act, 1939 deals with the situations in which Muslim women in India can obtain divorce. Its title and content refer to The Muslim Personal Law (Shariat) Application Act, 1937, which deals with marriage, succession and inheritance among Muslims. The 1939 act (Act No. 8 of 1939) is an act to consolidate and clarify the provisions of Muslim Law relating to suits for dissolution of marriage by women married under Muslim Law. The act received assent of the Governor-General on 17 March 1939. In Muslim law, the wife can claim divorce under extrajudicial or judicial modes. The extrajudicial modes are Talaaq-i-tafweez and Lian. The judicial mode is by Dissolution of Muslim Marriages Act 1939. The act defines the grounds for divorce and the procedure for the purpose. Grounds for divorce Under the act a woman married under Muslim Law shall be entitled to obtain a decree for the dissolution of her marriage on any one or more of the following grounds,(i) that the whereabouts of the husband have not been known for a period of four years ;(ii) that the husband has neglected or has failed to provide for her maintenance for a period of two years ;(iii) that the husband has been sentenced to imprisonment for a period of seven years or upwards ;(iv) that the husband has failed to perform, without reasonable cause his marital obligations for a period of three years ;continues to be so:(v) that the husband was impotent at the time of the marriage and (vi) that the husband has been insane for a period of two years or is suffering from leprosy or a virulent venereal disease ;(vii) that she, having been given in marriage by her father or other guardian before she attained the age of fifteen years, repudiated the marriage before attaining the age of eighteen years : Provided that the marriage has not been consummated ;(viii) that the husband treats her with cruelty that is to say,-habitually assaults her or makes her life miserable by ill-treatment, or of conduct even if such conduct does not amount to physical, life, orassociates with women of evil repute or leads an infamousattempts to force her to lead an immoral life, or rights over it, ordisposes of her property or prevents her exercising her legal practice, orobstructs her in the observance of her religious profession orif he has more wives than one, does not treat her equitably in accordance with the instructions of the Quran;(ix) on any other ground which is recognized as valid for the dissolution of marriages under Muslim Law: Provided that,no decree shall be passed on ground (iii) until the sentence has become final;a decree passed on ground (i) shall not take effect for a period of six months from the date of such decree, and if the husband appears either in person or through an authorized agent within that period and satisfies the Court that he is prepared to perform his conjugal duties, the Court shall set aside the said decree; andbefore passing a decree on ground (v) the Court shall on application by the husband, make an order requiring the husband to satisfy the Court, within a period of one year from the date of such order that he has ceased to be impotent, and if the husband so satisfies the Court within such period, no decree shall be passed on the said ground.'"
      ]
     },
     "execution_count": 177,
     "metadata": {},
     "output_type": "execute_result"
    }
   ],
   "source": [
    "new"
   ]
  },
  {
   "cell_type": "code",
   "execution_count": 176,
   "id": "646fb779",
   "metadata": {},
   "outputs": [],
   "source": [
    "from nltk.corpus import stopwords\n",
    "from nltk.tokenize import word_tokenize, sent_tokenize"
   ]
  },
  {
   "cell_type": "code",
   "execution_count": 183,
   "id": "a75fbb6a",
   "metadata": {},
   "outputs": [
    {
     "ename": "SyntaxError",
     "evalue": "invalid character in identifier (2889280710.py, line 9)",
     "output_type": "error",
     "traceback": [
      "\u001b[1;36m  Cell \u001b[1;32mIn[183], line 9\u001b[1;36m\u001b[0m\n\u001b[1;33m    word = word.lower()\u001b[0m\n\u001b[1;37m       ^\u001b[0m\n\u001b[1;31mSyntaxError\u001b[0m\u001b[1;31m:\u001b[0m invalid character in identifier\n"
     ]
    }
   ],
   "source": [
    "import nltk\n",
    "from nltk.corpus import stopwords\n",
    "from nltk.tokenize import word_tokenize,sent_tokenize\n",
    "text =new\n",
    "stopWords = set(stopwords.words(\"english\"))\n",
    "words = word_tokenize(text)\n",
    "freqTable = dict()\n",
    "for word in words:\n",
    "    word = word.lower()\n",
    "    if word in stopWords:\n",
    "        continue\n",
    "    if word in freqTable:\n",
    "        freqTable[word] += 1\n",
    "    else:\n",
    "        freqTable[word] = 1\n",
    "sentences = sent_tokenize(text)\n",
    "sentenceValue = dict()\n",
    "for sentence in sentences:\n",
    "    for word, freq in freqTable.items():\n",
    "        if word in sentence.lower():\n",
    "            if sentence in sentenceValue:\n",
    "                sentenceValue[sentence] += freq\n",
    "            else:\n",
    "                sentenceValue[sentence] = freq\n",
    "sumValues = 0\n",
    "for sentence in sentenceValue:\n",
    "    sumValues += sentenceValue[sentence]\n",
    "average = int(sumValues / len(sentenceValue))\n",
    "summary = ''\n",
    "for sentence in sentences:\n",
    "    if (sentence in sentenceValue) and (sentenceValue[sentence] > (1.2 * average)):\n",
    "        summary += \" \" + sentence\n",
    "print(summary)"
   ]
  },
  {
   "cell_type": "code",
   "execution_count": 187,
   "id": "10ff6b76",
   "metadata": {},
   "outputs": [],
   "source": [
    "documents = [\n",
    "        \"The Indian Trusts Amendment Bill of 2015 amended the Act and removed some restrictions on investment of the monetary assets by the trust in certain investments. Indian Trusts Act, 1882 is a law in India relating to private trusts and trustees\",\n",
    "        \"\"\n",
    "]"
   ]
  },
  {
   "cell_type": "code",
   "execution_count": 188,
   "id": "5909e089",
   "metadata": {},
   "outputs": [
    {
     "data": {
      "application/vnd.jupyter.widget-view+json": {
       "model_id": "fa9df97d6c05429b919d6b83ff512ec5",
       "version_major": 2,
       "version_minor": 0
      },
      "text/plain": [
       "Batches:   0%|          | 0/1 [00:00<?, ?it/s]"
      ]
     },
     "metadata": {},
     "output_type": "display_data"
    },
    {
     "name": "stdout",
     "output_type": "stream",
     "text": [
      "pairwise dense output:\n",
      " [[1.0000001  0.54838073]\n",
      " [0.54838073 0.99999976]]\n",
      "\n"
     ]
    }
   ],
   "source": [
    "model = SentenceTransformer('bert-base-nli-mean-tokens')\n",
    "text_embeddings = model.encode(documents, batch_size = 100, show_progress_bar = True)\n",
    "np.shape(text_embeddings)\n",
    "similarities = cosine_similarity(text_embeddings)\n",
    "print('pairwise dense output:\\n {}\\n'.format(similarities))"
   ]
  },
  {
   "cell_type": "code",
   "execution_count": 186,
   "id": "f1a46829",
   "metadata": {},
   "outputs": [
    {
     "name": "stderr",
     "output_type": "stream",
     "text": [
      "[nltk_data] Downloading package stopwords to\n",
      "[nltk_data]     C:\\Users\\Kunal\\AppData\\Roaming\\nltk_data...\n"
     ]
    },
    {
     "name": "stdout",
     "output_type": "stream",
     "text": [
      "Indian Trusts Act, 1882 is a law in India relating to private trusts and trustees\n",
      "The Act defines what would lawfully be called as a trust and who can legally be its trustees and provides a definition for them\n",
      "The Indian Trusts Amendment Bill of 2015 amended the Act and removed some restrictions on investment of the monetary assets by the trust in certain investments\n",
      "But at the same time, it enabled the government to scrutinise the trusts' investments at will Content The Act defines how the author of the trust could create a trust and assign trustees and assign his monetary assets to be controlled by the trust.\n",
      "Indexes of top ranked_sentence order are  [(0.3976165860766056, ['The', 'Indian', 'Trusts', 'Amendment', 'Bill', 'of', '2015', 'amended', 'the', 'Act', 'and', 'removed', 'some', 'restrictions', 'on', 'investment', 'of', 'the', 'monetary', 'assets', 'by', 'the', 'trust', 'in', 'certain', 'investments']), (0.3287323361329035, ['Indian', 'Trusts', 'Act,', '1882', 'is', 'a', 'law', 'in', 'India', 'relating', 'to', 'private', 'trusts', 'and', 'trustees']), (0.2736510777904907, ['The', 'Act', 'defines', 'what', 'would', 'lawfully', 'be', 'called', 'as', 'a', 'trust', 'and', 'who', 'can', 'legally', 'be', 'its', 'trustees', 'and', 'provides', 'a', 'definition', 'for', 'them'])]\n",
      "Summarize Text: \n",
      " The Indian Trusts Amendment Bill of 2015 amended the Act and removed some restrictions on investment of the monetary assets by the trust in certain investments. Indian Trusts Act, 1882 is a law in India relating to private trusts and trustees\n"
     ]
    },
    {
     "name": "stderr",
     "output_type": "stream",
     "text": [
      "[nltk_data]   Unzipping corpora\\stopwords.zip.\n"
     ]
    }
   ],
   "source": [
    "from nltk.corpus import stopwords\n",
    "from nltk.cluster.util import cosine_distance\n",
    "import numpy as np\n",
    "import networkx as nx\n",
    "nltk.download('stopwords')\n",
    "def read_article(file_name):\n",
    "    file = open(file_name, \"r\")\n",
    "    filedata = file.readlines()\n",
    "    article = filedata[0].split(\". \")\n",
    "    sentences = []\n",
    "\n",
    "    for sentence in article:\n",
    "        print(sentence)\n",
    "        sentences.append(sentence.replace(\"[^a-zA-Z]\", \" \").split(\" \"))\n",
    "    sentences.pop() \n",
    "    \n",
    "    return sentences\n",
    "\n",
    "def sentence_similarity(sent1, sent2, stopwords=None):\n",
    "    if stopwords is None:\n",
    "        stopwords = []\n",
    " \n",
    "    sent1 = [w.lower() for w in sent1]\n",
    "    sent2 = [w.lower() for w in sent2]\n",
    " \n",
    "    all_words = list(set(sent1 + sent2))\n",
    " \n",
    "    vector1 = [0] * len(all_words)\n",
    "    vector2 = [0] * len(all_words)\n",
    " \n",
    "    # build the vector for the first sentence\n",
    "    for w in sent1:\n",
    "        if w in stopwords:\n",
    "            continue\n",
    "        vector1[all_words.index(w)] += 1\n",
    " \n",
    "    # build the vector for the second sentence\n",
    "    for w in sent2:\n",
    "        if w in stopwords:\n",
    "            continue\n",
    "        vector2[all_words.index(w)] += 1\n",
    " \n",
    "    return 1 - cosine_distance(vector1, vector2)\n",
    " \n",
    "def build_similarity_matrix(sentences, stop_words):\n",
    "    # Create an empty similarity matrix\n",
    "    similarity_matrix = np.zeros((len(sentences), len(sentences)))\n",
    " \n",
    "    for idx1 in range(len(sentences)):\n",
    "        for idx2 in range(len(sentences)):\n",
    "            if idx1 == idx2: #ignore if both are same sentences\n",
    "                continue \n",
    "            similarity_matrix[idx1][idx2] = sentence_similarity(sentences[idx1], sentences[idx2], stop_words)\n",
    "\n",
    "    return similarity_matrix\n",
    "\n",
    "\n",
    "def generate_summary(file_name, top_n=5):\n",
    "    stop_words = stopwords.words('english')\n",
    "    summarize_text = []\n",
    "\n",
    "    # Step 1 - Read text anc split it\n",
    "    sentences =  read_article(file_name)\n",
    "\n",
    "    # Step 2 - Generate Similary Martix across sentences\n",
    "    sentence_similarity_martix = build_similarity_matrix(sentences, stop_words)\n",
    "\n",
    "    # Step 3 - Rank sentences in similarity martix\n",
    "    sentence_similarity_graph = nx.from_numpy_array(sentence_similarity_martix)\n",
    "    scores = nx.pagerank(sentence_similarity_graph)\n",
    "\n",
    "    # Step 4 - Sort the rank and pick top sentences\n",
    "    ranked_sentence = sorted(((scores[i],s) for i,s in enumerate(sentences)), reverse=True)    \n",
    "    print(\"Indexes of top ranked_sentence order are \", ranked_sentence)    \n",
    "\n",
    "    for i in range(top_n):\n",
    "      summarize_text.append(\" \".join(ranked_sentence[i][1]))\n",
    "\n",
    "    # Step 5 - Offcourse, output the summarize texr\n",
    "    print(\"Summarize Text: \\n\", \". \".join(summarize_text))\n",
    "\n",
    "# let's begin\n",
    "generate_summary( \"demo.txt\", 2)"
   ]
  },
  {
   "cell_type": "code",
   "execution_count": null,
   "id": "c315190d",
   "metadata": {},
   "outputs": [],
   "source": []
  }
 ],
 "metadata": {
  "kernelspec": {
   "display_name": "Python 3 (ipykernel)",
   "language": "python",
   "name": "python3"
  },
  "language_info": {
   "codemirror_mode": {
    "name": "ipython",
    "version": 3
   },
   "file_extension": ".py",
   "mimetype": "text/x-python",
   "name": "python",
   "nbconvert_exporter": "python",
   "pygments_lexer": "ipython3",
   "version": "3.8.5"
  }
 },
 "nbformat": 4,
 "nbformat_minor": 5
}
